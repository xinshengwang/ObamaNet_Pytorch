{
 "cells": [
  {
   "cell_type": "code",
   "execution_count": 1,
   "id": "acknowledged-minute",
   "metadata": {},
   "outputs": [],
   "source": [
    "import os\n",
    "import subprocess\n",
    "import json"
   ]
  },
  {
   "cell_type": "code",
   "execution_count": 2,
   "id": "convertible-prior",
   "metadata": {},
   "outputs": [],
   "source": [
    "root = '/home/work_nfs3/xswang/data/avatar/Obama/'"
   ]
  },
  {
   "cell_type": "code",
   "execution_count": 4,
   "id": "informative-findings",
   "metadata": {},
   "outputs": [],
   "source": [
    "names_path = os.path.join(root,'clip/select','select_files_2868.json')\n",
    "video_root = os.path.join(root,'clip/full/videos')\n",
    "audio_root = os.path.join(root,'clip/full/audios')\n",
    "text_root = os.path.join(root,'clip/full/texts')\n",
    "save_video = os.path.join(root,'clip/select/videos')\n",
    "save_audio = os.path.join(root,'clip/select/audios')\n",
    "save_text = os.path.join(root,'clip/select/texts')"
   ]
  },
  {
   "cell_type": "code",
   "execution_count": 5,
   "id": "angry-aruba",
   "metadata": {},
   "outputs": [],
   "source": [
    "with open(names_path,'r') as f:\n",
    "    names = json.load(f)"
   ]
  },
  {
   "cell_type": "code",
   "execution_count": 8,
   "id": "bizarre-verification",
   "metadata": {},
   "outputs": [],
   "source": [
    "for text_name in names:\n",
    "    video_name = text_name.replace('.txt','.mp4')\n",
    "    audio_name = text_name.replace('.txt','.wav')\n",
    "    video_input = os.path.join(video_root,video_name)\n",
    "    audio_input = os.path.join(audio_root,audio_name)\n",
    "    text_input =os.path.join(text_root,text_name)\n",
    "    cmd1 = 'cp ' + video_input + ' ' + save_video\n",
    "    cmd2 = 'cp ' + audio_input + ' ' + save_audio\n",
    "    cmd3 = 'cp ' + text_input + ' ' + save_text\n",
    "    subprocess.call([cmd1],shell=True)\n",
    "    subprocess.call([cmd2],shell=True)\n",
    "    subprocess.call([cmd3],shell=True)"
   ]
  },
  {
   "cell_type": "markdown",
   "id": "split-cotton",
   "metadata": {},
   "source": [
    "## count the video duration"
   ]
  },
  {
   "cell_type": "code",
   "execution_count": 10,
   "id": "informal-exclusion",
   "metadata": {},
   "outputs": [],
   "source": [
    "import cv2\n",
    "def get_video_duration(filename):\n",
    "  cap = cv2.VideoCapture(filename)\n",
    "  if cap.isOpened():\n",
    "    rate = cap.get(5)\n",
    "    frame_num =cap.get(7)\n",
    "    duration = frame_num/rate\n",
    "    return duration / 60"
   ]
  },
  {
   "cell_type": "code",
   "execution_count": 11,
   "id": "blank-corrections",
   "metadata": {},
   "outputs": [],
   "source": [
    "names = os.listdir(save_video)\n",
    "total_t = 0\n",
    "for name in names:\n",
    "    path = os.path.join(save_video,name)\n",
    "    t = get_video_duration(path)\n",
    "    total_t += t"
   ]
  },
  {
   "cell_type": "code",
   "execution_count": 13,
   "id": "upper-herald",
   "metadata": {},
   "outputs": [
    {
     "data": {
      "text/plain": [
       "4.780966151336524"
      ]
     },
     "execution_count": 13,
     "metadata": {},
     "output_type": "execute_result"
    }
   ],
   "source": [
    "total_t/60"
   ]
  }
 ],
 "metadata": {
  "kernelspec": {
   "display_name": "Python 3",
   "language": "python",
   "name": "python3"
  },
  "language_info": {
   "codemirror_mode": {
    "name": "ipython",
    "version": 3
   },
   "file_extension": ".py",
   "mimetype": "text/x-python",
   "name": "python",
   "nbconvert_exporter": "python",
   "pygments_lexer": "ipython3",
   "version": "3.6.12"
  }
 },
 "nbformat": 4,
 "nbformat_minor": 5
}
