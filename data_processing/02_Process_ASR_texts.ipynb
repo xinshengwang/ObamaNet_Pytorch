{
 "cells": [
  {
   "cell_type": "code",
   "execution_count": 4,
   "metadata": {},
   "outputs": [],
   "source": [
    "import os\n",
    "import numpy as np"
   ]
  },
  {
   "cell_type": "code",
   "execution_count": 22,
   "metadata": {},
   "outputs": [],
   "source": [
    "def process_files(text):\n",
    "    str = ' '\n",
    "    new_sent = []\n",
    "    name = text.split()[0]\n",
    "    for i in range(1,len(text.split())):\n",
    "        if text.split()[i] != text.split()[i-1]:\n",
    "            new_sent.append(text.split()[i])\n",
    "    new_sent = str.join(new_sent)\n",
    "    new_sent = new_sent.lower()\n",
    "    return name,new_sent"
   ]
  },
  {
   "cell_type": "code",
   "execution_count": 24,
   "metadata": {},
   "outputs": [],
   "source": [
    "with open('text_asr_all.text','r',encoding='utf-8') as f:\n",
    "    sents = f.read().splitlines()\n",
    "for sent in sents:\n",
    "    name,new_sent = process_files(sent)\n",
    "    save_path = 'texts_asr/' + name + '.txt'\n",
    "    with open(save_path,'w') as f:\n",
    "        f.writelines(new_sent)\n",
    "    "
   ]
  }
 ],
 "metadata": {
  "kernelspec": {
   "display_name": "Python 3",
   "language": "python",
   "name": "python3"
  },
  "language_info": {
   "codemirror_mode": {
    "name": "ipython",
    "version": 3
   },
   "file_extension": ".py",
   "mimetype": "text/x-python",
   "name": "python",
   "nbconvert_exporter": "python",
   "pygments_lexer": "ipython3",
   "version": "3.7.3"
  }
 },
 "nbformat": 4,
 "nbformat_minor": 2
}
