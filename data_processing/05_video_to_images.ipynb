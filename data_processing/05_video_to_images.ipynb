{
 "cells": [
  {
   "cell_type": "code",
   "execution_count": 1,
   "metadata": {},
   "outputs": [],
   "source": [
    "import subprocess\n",
    "import os"
   ]
  },
  {
   "cell_type": "markdown",
   "metadata": {},
   "source": [
    "## video to .bmp image"
   ]
  },
  {
   "cell_type": "code",
   "execution_count": 2,
   "metadata": {},
   "outputs": [],
   "source": [
    "video_root = 'videos'\n",
    "image_root = 'image'\n",
    "video_names = os.listdir(video_root)\n",
    "for video_name in video_names:\n",
    "    video_path = os.path.join(video_root,video_name)\n",
    "    name = video_name.split('.')[0]\n",
    "    save_dir = os.path.join(image_root,name)\n",
    "    if not os.path.exists(save_dir):\n",
    "        os.makedirs(save_dir)\n",
    "    cmd = 'ffmpeg -i %s -r 20 -vf scale=-1:720 image/%s/'%(video_path,name) + '%05d.bmp'\n",
    "    subprocess.call(cmd ,shell=True)"
   ]
  },
  {
   "cell_type": "code",
   "execution_count": 9,
   "metadata": {},
   "outputs": [
    {
     "ename": "SyntaxError",
     "evalue": "invalid syntax (<ipython-input-9-84a20b4bbed4>, line 1)",
     "output_type": "error",
     "traceback": [
      "\u001b[1;36m  File \u001b[1;32m\"<ipython-input-9-84a20b4bbed4>\"\u001b[1;36m, line \u001b[1;32m1\u001b[0m\n\u001b[1;33m    ffmpeg -i %s -r 20 -vf scale=-1:720 %s/'%(video_path,name) + %05d.bmp\u001b[0m\n\u001b[1;37m                     ^\u001b[0m\n\u001b[1;31mSyntaxError\u001b[0m\u001b[1;31m:\u001b[0m invalid syntax\n"
     ]
    }
   ],
   "source": [
    "ffmpeg -i %s -r 20 -vf scale=-1:720 %s/'%(video_path,name) + %05d.bmp"
   ]
  },
  {
   "cell_type": "code",
   "execution_count": null,
   "metadata": {},
   "outputs": [],
   "source": [
    "ffmpeg -i %s -r 20 -vf scale=-1:720 image/%s/'%(video_path,name) + '%05d.bmp"
   ]
  },
  {
   "cell_type": "markdown",
   "metadata": {},
   "source": [
    "## transfer bmp to jpg"
   ]
  },
  {
   "cell_type": "code",
   "execution_count": 5,
   "metadata": {},
   "outputs": [
    {
     "data": {
      "text/plain": [
       "'/home/work_nfs3/xswang/data/avatar/Obama/subset_for_develop/code_for_data_processing'"
      ]
     },
     "execution_count": 5,
     "metadata": {},
     "output_type": "execute_result"
    }
   ],
   "source": [
    "pwd"
   ]
  },
  {
   "cell_type": "code",
   "execution_count": 6,
   "metadata": {},
   "outputs": [
    {
     "name": "stdout",
     "output_type": "stream",
     "text": [
      "/home/work_nfs3/xswang/data/avatar/Obama/subset_for_develop/video_clip/image\n"
     ]
    }
   ],
   "source": [
    "cd ../video_clip/image"
   ]
  },
  {
   "cell_type": "code",
   "execution_count": 23,
   "metadata": {},
   "outputs": [
    {
     "name": "stdout",
     "output_type": "stream",
     "text": [
      "/home/work_nfs3/xswang/data/avatar/Obama/subset_for_develop/video_clip/image\n"
     ]
    }
   ],
   "source": [
    "cd .."
   ]
  },
  {
   "cell_type": "code",
   "execution_count": 24,
   "metadata": {},
   "outputs": [],
   "source": [
    "# image_root = 'image'\n",
    "# names = os.listdir(image_root)\n",
    "prevdir = os.getcwd()\n",
    "names = os.listdir(prevdir)\n",
    "for name in names:\n",
    "    new_path = '%s/%s'%(prevdir,name)\n",
    "    os.chdir(new_path)\n",
    "#     subprocess.call(cmd ,shell=True)\n",
    "    cmd = 'mogrify -format jpg *.bmp'\n",
    "    subprocess.call(cmd ,shell=True)\n",
    "    os.chdir(prevdir)\n",
    "#     cmd ='rm -rf *.bmp'\n",
    "#     subprocess.call(cmd ,shell=True)\n",
    "#     os.chdir(prevdir)"
   ]
  },
  {
   "cell_type": "markdown",
   "metadata": {},
   "source": [
    "## delet bmp files"
   ]
  },
  {
   "cell_type": "code",
   "execution_count": 27,
   "metadata": {},
   "outputs": [],
   "source": [
    "prevdir = os.getcwd()\n",
    "names = os.listdir(prevdir)\n",
    "for name in names:\n",
    "    new_path = '%s/%s'%(prevdir,name)\n",
    "    os.chdir(new_path)\n",
    "    cmd ='rm -rf *.bmp'\n",
    "    subprocess.call(cmd ,shell=True)\n",
    "    os.chdir(prevdir)"
   ]
  }
 ],
 "metadata": {
  "kernelspec": {
   "display_name": "Python 3",
   "language": "python",
   "name": "python3"
  },
  "language_info": {
   "codemirror_mode": {
    "name": "ipython",
    "version": 3
   },
   "file_extension": ".py",
   "mimetype": "text/x-python",
   "name": "python",
   "nbconvert_exporter": "python",
   "pygments_lexer": "ipython3",
   "version": "3.7.3"
  }
 },
 "nbformat": 4,
 "nbformat_minor": 4
}
