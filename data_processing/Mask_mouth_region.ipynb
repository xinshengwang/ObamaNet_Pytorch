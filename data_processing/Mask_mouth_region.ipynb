{
 "cells": [
  {
   "cell_type": "code",
   "execution_count": 2,
   "metadata": {},
   "outputs": [],
   "source": [
    "import cv2\n",
    "import dlib\n",
    "import os\n",
    "import sys \n",
    "import numpy as np"
   ]
  },
  {
   "cell_type": "code",
   "execution_count": 12,
   "metadata": {},
   "outputs": [],
   "source": [
    "detector = dlib.get_frontal_face_detector()\n",
    "def shape_to_np(shape, dtype=\"int\"):\n",
    "    # initialize the list of (x, y)-coordinates\n",
    "    coords = np.zeros((shape.num_parts, 2), dtype=dtype)\n",
    "\n",
    "    # loop over all facial landmarks and convert them\n",
    "    # to a 2-tuple of (x, y)-coordinates\n",
    "    for i in range(0, shape.num_parts):\n",
    "        coords[i] = (shape.part(i).x, shape.part(i).y)\n",
    "\n",
    "    # return the list of (x, y)-coordinates\n",
    "    return coords\n",
    "def getTilt(keypoints_mn):\n",
    "    # Remove in plane rotation using the eyes\n",
    "    eyes_kp = np.array(keypoints_mn[36:47])\n",
    "    x = eyes_kp[:, 0]\n",
    "    y = -1*eyes_kp[:, 1]\n",
    "    # print('X:', x)\n",
    "    # print('Y:', y)\n",
    "    m = np.polyfit(x, y, 1)\n",
    "    tilt = np.degrees(np.arctan(m[0]))\n",
    "    return tilt\n",
    "\n",
    "def getKeypointFeatures(keypoints):\n",
    "    # Mean Normalize the keypoints wrt the center of the mouth\n",
    "    # Leads to face position invariancy\n",
    "    mouth_kp_mean = np.average(keypoints[48:67], 0)\n",
    "    keypoints_mn = keypoints - mouth_kp_mean\n",
    "\n",
    "    # Remove tilt\n",
    "    x_dash = keypoints_mn[:, 0]\n",
    "    y_dash = keypoints_mn[:, 1]\n",
    "    theta = np.deg2rad(getTilt(keypoints_mn))\n",
    "    c = np.cos(theta);\ts = np.sin(theta)\n",
    "    x = x_dash*c - y_dash*s\t# x = x'cos(theta)-y'sin(theta)\n",
    "    y = x_dash*s + y_dash*c # y = x'sin(theta)+y'cos(theta)\n",
    "    keypoints_tilt = np.hstack((x.reshape((-1,1)), y.reshape((-1,1))))\n",
    "\n",
    "    # Normalize\n",
    "    N = np.linalg.norm(keypoints_tilt, 2)\n",
    "    return [keypoints_tilt/N, N, theta, mouth_kp_mean]\n",
    "def get_facial_landmarks(image):\n",
    "#     image = io.imread(filename);\n",
    "    # detect face(s)\n",
    "    dets = detector(image, 1);\n",
    "    shape = np.empty([1,1])\n",
    "    for k, d in enumerate(dets):\n",
    "        # Get the landmarks/parts for the face in box d.\n",
    "        shape = predictor(image, d);\n",
    "        shape = shape_to_np(shape);\n",
    "    return shape;"
   ]
  },
  {
   "cell_type": "code",
   "execution_count": 3,
   "metadata": {},
   "outputs": [],
   "source": [
    "image_root = 'F:/dataset/Avatar/Obama/clip/image_crop'\n",
    "save_root = 'F:/dataset/Avatar/Obama/clip/image_masked'\n",
    "detector = dlib.get_frontal_face_detector()\n",
    "predictor = dlib.shape_predictor(\"F:/code/avatar/Pre-trained_model/shape_predictor_68_face_landmarks.dat\")"
   ]
  },
  {
   "cell_type": "code",
   "execution_count": 14,
   "metadata": {},
   "outputs": [],
   "source": [
    "names = os.listdir(image_root)\n",
    "for name in names:\n",
    "    file_path = os.path.join(image_root,name)\n",
    "    save_file = os.path.join(save_root,name)\n",
    "    if not os.path.exists(save_file):\n",
    "        os.mkdir(save_file)\n",
    "    image_names = os.listdir(file_path)\n",
    "    for image_name in image_names:\n",
    "        save_path = os.path.join(save_file,image_name)\n",
    "        image_path = os.path.join(file_path,image_name)\n",
    "        image = cv2.imread(image_path)\n",
    "        keypoints = get_facial_landmarks(image)\n",
    "        l = getKeypointFeatures(keypoints)\n",
    "        unit_kp, N, tilt, mean = l[0], l[1], l[2], l[3]\n",
    "        kp_mouth = unit_kp[48:68]\n",
    "        # create a patch based on the tilt, mean and the size of face\n",
    "        mean_x, mean_y = int(mean[0]), int(mean[1])\n",
    "        size = int(N/15)\n",
    "        aspect_ratio_mouth = 1.8     \n",
    "        mean_x, mean_y = int(mean[0]), int(mean[1])\n",
    "        size = int(N/15)\n",
    "        aspect_ratio_mouth = 1.8     \n",
    "        \n",
    "        image[ mean_y-size: mean_y+size, mean_x-int(aspect_ratio_mouth*size):mean_x+int(aspect_ratio_mouth*size) ] = 0\n",
    "        cv2.imwrite(save_path, image)"
   ]
  }
 ],
 "metadata": {
  "kernelspec": {
   "display_name": "Python 3",
   "language": "python",
   "name": "python3"
  },
  "language_info": {
   "codemirror_mode": {
    "name": "ipython",
    "version": 3
   },
   "file_extension": ".py",
   "mimetype": "text/x-python",
   "name": "python",
   "nbconvert_exporter": "python",
   "pygments_lexer": "ipython3",
   "version": "3.7.3"
  }
 },
 "nbformat": 4,
 "nbformat_minor": 2
}
