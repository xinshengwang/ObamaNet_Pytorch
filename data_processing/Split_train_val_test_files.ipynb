{
 "cells": [
  {
   "cell_type": "code",
   "execution_count": 17,
   "id": "vertical-monthly",
   "metadata": {},
   "outputs": [],
   "source": [
    "import os\n",
    "from glob import glob\n",
    "import json\n",
    "import random"
   ]
  },
  {
   "cell_type": "code",
   "execution_count": 25,
   "id": "freelance-conditioning",
   "metadata": {},
   "outputs": [],
   "source": [
    "# 5% val and test\n",
    "def data_split(full_list):\n",
    "    n_total = len(full_list)\n",
    "    tr_num = int(n_total * 0.9)\n",
    "    tr_ts_num = int(n_total * 0.95)\n",
    "    random.shuffle(full_list)\n",
    "    train_list = full_list[:tr_num]\n",
    "    test_list = full_list[tr_num:tr_ts_num]\n",
    "    val_list = full_list[tr_ts_num:]\n",
    "    return sorted(train_list),sorted(val_list),sorted(test_list)"
   ]
  },
  {
   "cell_type": "code",
   "execution_count": 19,
   "id": "threaded-frequency",
   "metadata": {},
   "outputs": [],
   "source": [
    "root = '/home/work_nfs3/xswang/data/avatar/Obama/clip/select/audios/'\n",
    "names = sorted(glob(root + '/*.wav'))\n",
    "name_list = [name[len(root):-len('.wav')] for name in names]"
   ]
  },
  {
   "cell_type": "code",
   "execution_count": 26,
   "id": "insured-exhaust",
   "metadata": {},
   "outputs": [],
   "source": [
    "train_list,val_list,test_list = data_split(name_list)"
   ]
  },
  {
   "cell_type": "code",
   "execution_count": 27,
   "id": "moderate-james",
   "metadata": {},
   "outputs": [
    {
     "data": {
      "text/plain": [
       "(2581, 144, 143)"
      ]
     },
     "execution_count": 27,
     "metadata": {},
     "output_type": "execute_result"
    }
   ],
   "source": [
    "len(train_list),len(val_list),len(test_list)"
   ]
  },
  {
   "cell_type": "code",
   "execution_count": 31,
   "id": "composite-formula",
   "metadata": {},
   "outputs": [],
   "source": [
    "save_root = '/home/work_nfs3/xswang/data/avatar/Obama/clip/select/split/'\n",
    "with open(save_root + 'train.json','w') as f:\n",
    "    json.dump(train_list,f)\n",
    "with open(save_root + 'val.json','w') as f:\n",
    "    json.dump(val_list,f)\n",
    "with open(save_root + 'test.json','w') as f:\n",
    "    json.dump(test_list,f)"
   ]
  },
  {
   "cell_type": "code",
   "execution_count": null,
   "id": "impressed-steal",
   "metadata": {},
   "outputs": [],
   "source": [
    "/home/work_nfs3/xswang/data/avatar/Obama/clip/select/split"
   ]
  }
 ],
 "metadata": {
  "kernelspec": {
   "display_name": "Python 3",
   "language": "python",
   "name": "python3"
  },
  "language_info": {
   "codemirror_mode": {
    "name": "ipython",
    "version": 3
   },
   "file_extension": ".py",
   "mimetype": "text/x-python",
   "name": "python",
   "nbconvert_exporter": "python",
   "pygments_lexer": "ipython3",
   "version": "3.6.12"
  }
 },
 "nbformat": 4,
 "nbformat_minor": 5
}
