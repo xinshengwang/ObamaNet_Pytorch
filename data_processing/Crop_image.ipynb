{
 "cells": [
  {
   "cell_type": "code",
   "execution_count": 1,
   "metadata": {},
   "outputs": [],
   "source": [
    "import cv2\n",
    "import dlib\n",
    "import os\n",
    "import sys \n",
    "import numpy as np"
   ]
  },
  {
   "cell_type": "code",
   "execution_count": 2,
   "metadata": {},
   "outputs": [],
   "source": [
    "def rect_to_bb(rect):\n",
    "    x = rect.left()\n",
    "    y = rect.top()\n",
    "    w = rect.right() - x \n",
    "    h = rect.bottom() - y \n",
    "    left = int(x + w/2 - 128)\n",
    "    right = left + 256\n",
    "    top = 0\n",
    "    bottom = 256\n",
    "    return (left, top, right, bottom)"
   ]
  },
  {
   "cell_type": "code",
   "execution_count": 3,
   "metadata": {},
   "outputs": [],
   "source": [
    "def resize(image, width=456):\n",
    "    r = width * 1.0 / image.shape[1]\n",
    "    dim = (width, int(image.shape[0] * r)) \n",
    "    resized = cv2.resize(image, dim, interpolation=cv2.INTER_AREA)\n",
    "    return resized"
   ]
  },
  {
   "cell_type": "code",
   "execution_count": 4,
   "metadata": {},
   "outputs": [],
   "source": [
    "image_root = 'F:/dataset/Avatar/Obama/clip/image'\n",
    "save_root = 'F:/dataset/Avatar/Obama/clip/image_crop'\n",
    "detector = dlib.get_frontal_face_detector()\n",
    "predictor = dlib.shape_predictor(\"F:/code/avatar/Pre-trained_model/shape_predictor_68_face_landmarks.dat\")"
   ]
  },
  {
   "cell_type": "code",
   "execution_count": 5,
   "metadata": {},
   "outputs": [],
   "source": [
    "first_path = 'F:/dataset/Avatar/Obama/clip/images/00001_1/00001.jpg'\n",
    "first_image = cv2.imread(first_path)\n",
    "first_image = resize(first_image, width=456)\n",
    "gray = cv2.cvtColor(first_image, cv2.COLOR_BGR2GRAY)\n",
    "rect = detector(gray, 1)\n",
    "x1,y1,x2,y2 =  rect_to_bb(rect[0])\n",
    "#     image_path = 'F:/dataset/Avatar/Obama/clip/images/00001_1/00001.jpg'\n",
    "#     image = cv2.imread(image_path)\n",
    "#     image = resize(image, width=456)\n",
    "#     crop_img = image[y1:y2,x1:x2]\n",
    "#     cv2.imwrite(save_path, crop_img)"
   ]
  },
  {
   "cell_type": "code",
   "execution_count": null,
   "metadata": {},
   "outputs": [],
   "source": [
    "names = os.listdir(image_root)\n",
    "for name in names:\n",
    "    file_path = os.path.join(image_root,name)\n",
    "    save_file = os.path.join(save_root,name)\n",
    "    if not os.path.exists(save_file):\n",
    "        os.mkdir(save_file)\n",
    "    image_names = os.listdir(file_path)\n",
    "    first_path = os.path.join(file_path,image_names[0])\n",
    "    first_image = cv2.imread(first_path)\n",
    "    first_image = resize(first_image, width=456)\n",
    "    gray = cv2.cvtColor(first_image, cv2.COLOR_BGR2GRAY)\n",
    "    rect = detector(gray, 1)\n",
    "    x1,y1,x2,y2 =  rect_to_bb(rect[0])\n",
    "    for image_name in image_names:\n",
    "        save_path = os.path.join(save_file,image_name)\n",
    "        image_path = os.path.join(file_path,image_name)\n",
    "        image = cv2.imread(image_path)\n",
    "        image = resize(image, width=456)\n",
    "        crop_img = image[y1:y2,x1:x2]\n",
    "        cv2.imwrite(save_path, crop_img)"
   ]
  },
  {
   "cell_type": "code",
   "execution_count": 11,
   "metadata": {},
   "outputs": [
    {
     "data": {
      "text/plain": [
       "'F:/dataset/Avatar/Obama/clip/image\\\\00001_1'"
      ]
     },
     "execution_count": 11,
     "metadata": {},
     "output_type": "execute_result"
    }
   ],
   "source": [
    "image_names"
   ]
  },
  {
   "cell_type": "code",
   "execution_count": 9,
   "metadata": {},
   "outputs": [
    {
     "data": {
      "text/plain": [
       "True"
      ]
     },
     "execution_count": 9,
     "metadata": {},
     "output_type": "execute_result"
    }
   ],
   "source": [
    "# x1,y1,x2,y2 =  rect_to_bb(rect)\n",
    "cv2.rectangle(first_image, (x1,y1), (x2,y2), (0, 255, 0), 2)\n",
    "save_path = 'F:/Desktop/rec.jpg'\n",
    "cv2.imwrite(save_path, first_image)\n",
    "# cv2.imshow(\"Output\", first_image)\n",
    "# cv2.waitKey(0)"
   ]
  },
  {
   "cell_type": "code",
   "execution_count": 72,
   "metadata": {},
   "outputs": [
    {
     "data": {
      "text/plain": [
       "-1"
      ]
     },
     "execution_count": 72,
     "metadata": {},
     "output_type": "execute_result"
    }
   ],
   "source": [
    "cv2.rectangle(image, (int(x+w/2-128), 0), (int(x+w/2+128), 256), (0, 255, 0), 2)\n",
    "cv2.imshow(\"Output\", image)\n",
    "cv2.waitKey(0)"
   ]
  }
 ],
 "metadata": {
  "kernelspec": {
   "display_name": "Python 3",
   "language": "python",
   "name": "python3"
  },
  "language_info": {
   "codemirror_mode": {
    "name": "ipython",
    "version": 3
   },
   "file_extension": ".py",
   "mimetype": "text/x-python",
   "name": "python",
   "nbconvert_exporter": "python",
   "pygments_lexer": "ipython3",
   "version": "3.7.3"
  }
 },
 "nbformat": 4,
 "nbformat_minor": 2
}
